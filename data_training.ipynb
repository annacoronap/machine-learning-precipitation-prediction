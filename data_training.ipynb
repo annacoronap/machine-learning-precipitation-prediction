{
 "cells": [
  {
   "cell_type": "markdown",
   "id": "1941ae3f-e99a-4718-b356-bbf4f53166a0",
   "metadata": {},
   "source": [
    "<h3>1- Data reading <h3>"
   ]
  },
  {
   "cell_type": "markdown",
   "id": "c0f510be-4204-4eb5-8e8c-de4d69cd1a2b",
   "metadata": {},
   "source": [
    "Leemos el archivo csv generado en el script '1.Dades_estacio.csv'"
   ]
  },
  {
   "cell_type": "code",
   "execution_count": 1,
   "id": "f10c6108-a5a3-4c4f-abd6-4f47b99693b4",
   "metadata": {},
   "outputs": [],
   "source": [
    "import pandas as pd\n",
    "import numpy as np\n",
    "import matplotlib.pyplot as plt\n",
    "from sklearn.preprocessing import StandardScaler"
   ]
  },
  {
   "cell_type": "code",
   "execution_count": 2,
   "id": "c57878f3-1899-41f7-b364-173ad3c1282a",
   "metadata": {},
   "outputs": [
    {
     "data": {
      "text/html": [
       "<div>\n",
       "<style scoped>\n",
       "    .dataframe tbody tr th:only-of-type {\n",
       "        vertical-align: middle;\n",
       "    }\n",
       "\n",
       "    .dataframe tbody tr th {\n",
       "        vertical-align: top;\n",
       "    }\n",
       "\n",
       "    .dataframe thead th {\n",
       "        text-align: right;\n",
       "    }\n",
       "</style>\n",
       "<table border=\"1\" class=\"dataframe\">\n",
       "  <thead>\n",
       "    <tr style=\"text-align: right;\">\n",
       "      <th></th>\n",
       "      <th>DATA</th>\n",
       "      <th>Temp mitja</th>\n",
       "      <th>Temp max</th>\n",
       "      <th>Temp min</th>\n",
       "      <th>Dif.Temp</th>\n",
       "      <th>Pressió atm mitja</th>\n",
       "      <th>Pressió atm. max</th>\n",
       "      <th>Pressió atm. min</th>\n",
       "      <th>Dif.Pressió</th>\n",
       "      <th>Humitat rel mitja</th>\n",
       "      <th>...</th>\n",
       "      <th>Gruix neu mitja</th>\n",
       "      <th>Velocitat vent (10m) mitja</th>\n",
       "      <th>Direcció vent mitja</th>\n",
       "      <th>Ratxa max vent (10m)</th>\n",
       "      <th>Direcció vent max mitja</th>\n",
       "      <th>Precipitació tot</th>\n",
       "      <th>Precipitació max 1min</th>\n",
       "      <th>Precipitació demà</th>\n",
       "      <th>Precipitació (bool)</th>\n",
       "      <th>Precipitació demà(bool)</th>\n",
       "    </tr>\n",
       "  </thead>\n",
       "  <tbody>\n",
       "    <tr>\n",
       "      <th>0</th>\n",
       "      <td>2009-01-01</td>\n",
       "      <td>2.2</td>\n",
       "      <td>9.7</td>\n",
       "      <td>-2.7</td>\n",
       "      <td>12.4</td>\n",
       "      <td>893.9</td>\n",
       "      <td>896.0</td>\n",
       "      <td>892.0</td>\n",
       "      <td>4.0</td>\n",
       "      <td>89.0</td>\n",
       "      <td>...</td>\n",
       "      <td>0.0</td>\n",
       "      <td>2.555564</td>\n",
       "      <td>150.659998</td>\n",
       "      <td>4.4</td>\n",
       "      <td>198.6</td>\n",
       "      <td>0.0</td>\n",
       "      <td>0.079059</td>\n",
       "      <td>0.0</td>\n",
       "      <td>False</td>\n",
       "      <td>False</td>\n",
       "    </tr>\n",
       "    <tr>\n",
       "      <th>1</th>\n",
       "      <td>2009-01-02</td>\n",
       "      <td>1.7</td>\n",
       "      <td>6.8</td>\n",
       "      <td>-3.4</td>\n",
       "      <td>10.2</td>\n",
       "      <td>891.3</td>\n",
       "      <td>893.0</td>\n",
       "      <td>890.0</td>\n",
       "      <td>3.0</td>\n",
       "      <td>92.5</td>\n",
       "      <td>...</td>\n",
       "      <td>0.0</td>\n",
       "      <td>2.555564</td>\n",
       "      <td>150.659998</td>\n",
       "      <td>3.8</td>\n",
       "      <td>168.2</td>\n",
       "      <td>0.0</td>\n",
       "      <td>0.079059</td>\n",
       "      <td>0.0</td>\n",
       "      <td>False</td>\n",
       "      <td>False</td>\n",
       "    </tr>\n",
       "    <tr>\n",
       "      <th>2</th>\n",
       "      <td>2009-01-03</td>\n",
       "      <td>-1.7</td>\n",
       "      <td>7.5</td>\n",
       "      <td>-7.6</td>\n",
       "      <td>15.1</td>\n",
       "      <td>889.4</td>\n",
       "      <td>891.0</td>\n",
       "      <td>887.0</td>\n",
       "      <td>4.0</td>\n",
       "      <td>80.0</td>\n",
       "      <td>...</td>\n",
       "      <td>0.0</td>\n",
       "      <td>2.555564</td>\n",
       "      <td>150.659998</td>\n",
       "      <td>3.3</td>\n",
       "      <td>153.4</td>\n",
       "      <td>0.0</td>\n",
       "      <td>0.079059</td>\n",
       "      <td>0.0</td>\n",
       "      <td>False</td>\n",
       "      <td>False</td>\n",
       "    </tr>\n",
       "    <tr>\n",
       "      <th>3</th>\n",
       "      <td>2009-01-04</td>\n",
       "      <td>-2.3</td>\n",
       "      <td>8.9</td>\n",
       "      <td>-11.2</td>\n",
       "      <td>20.1</td>\n",
       "      <td>890.7</td>\n",
       "      <td>892.0</td>\n",
       "      <td>889.0</td>\n",
       "      <td>3.0</td>\n",
       "      <td>64.9</td>\n",
       "      <td>...</td>\n",
       "      <td>0.0</td>\n",
       "      <td>2.555564</td>\n",
       "      <td>150.659998</td>\n",
       "      <td>9.2</td>\n",
       "      <td>148.4</td>\n",
       "      <td>0.0</td>\n",
       "      <td>0.079059</td>\n",
       "      <td>0.0</td>\n",
       "      <td>False</td>\n",
       "      <td>False</td>\n",
       "    </tr>\n",
       "    <tr>\n",
       "      <th>4</th>\n",
       "      <td>2009-01-05</td>\n",
       "      <td>-3.0</td>\n",
       "      <td>7.4</td>\n",
       "      <td>-10.7</td>\n",
       "      <td>18.1</td>\n",
       "      <td>887.4</td>\n",
       "      <td>891.0</td>\n",
       "      <td>884.0</td>\n",
       "      <td>7.0</td>\n",
       "      <td>62.5</td>\n",
       "      <td>...</td>\n",
       "      <td>0.0</td>\n",
       "      <td>2.555564</td>\n",
       "      <td>150.659998</td>\n",
       "      <td>3.2</td>\n",
       "      <td>159.2</td>\n",
       "      <td>0.0</td>\n",
       "      <td>0.079059</td>\n",
       "      <td>8.0</td>\n",
       "      <td>False</td>\n",
       "      <td>True</td>\n",
       "    </tr>\n",
       "  </tbody>\n",
       "</table>\n",
       "<p>5 rows × 24 columns</p>\n",
       "</div>"
      ],
      "text/plain": [
       "         DATA  Temp mitja  Temp max  Temp min  Dif.Temp  Pressió atm mitja  \\\n",
       "0  2009-01-01         2.2       9.7      -2.7      12.4              893.9   \n",
       "1  2009-01-02         1.7       6.8      -3.4      10.2              891.3   \n",
       "2  2009-01-03        -1.7       7.5      -7.6      15.1              889.4   \n",
       "3  2009-01-04        -2.3       8.9     -11.2      20.1              890.7   \n",
       "4  2009-01-05        -3.0       7.4     -10.7      18.1              887.4   \n",
       "\n",
       "   Pressió atm. max  Pressió atm. min  Dif.Pressió  Humitat rel mitja  ...  \\\n",
       "0             896.0             892.0          4.0               89.0  ...   \n",
       "1             893.0             890.0          3.0               92.5  ...   \n",
       "2             891.0             887.0          4.0               80.0  ...   \n",
       "3             892.0             889.0          3.0               64.9  ...   \n",
       "4             891.0             884.0          7.0               62.5  ...   \n",
       "\n",
       "   Gruix neu mitja  Velocitat vent (10m) mitja  Direcció vent mitja  \\\n",
       "0              0.0                    2.555564           150.659998   \n",
       "1              0.0                    2.555564           150.659998   \n",
       "2              0.0                    2.555564           150.659998   \n",
       "3              0.0                    2.555564           150.659998   \n",
       "4              0.0                    2.555564           150.659998   \n",
       "\n",
       "   Ratxa max vent (10m)  Direcció vent max mitja  Precipitació tot  \\\n",
       "0                   4.4                    198.6               0.0   \n",
       "1                   3.8                    168.2               0.0   \n",
       "2                   3.3                    153.4               0.0   \n",
       "3                   9.2                    148.4               0.0   \n",
       "4                   3.2                    159.2               0.0   \n",
       "\n",
       "   Precipitació max 1min  Precipitació demà  Precipitació (bool)  \\\n",
       "0               0.079059                0.0                False   \n",
       "1               0.079059                0.0                False   \n",
       "2               0.079059                0.0                False   \n",
       "3               0.079059                0.0                False   \n",
       "4               0.079059                8.0                False   \n",
       "\n",
       "   Precipitació demà(bool)  \n",
       "0                    False  \n",
       "1                    False  \n",
       "2                    False  \n",
       "3                    False  \n",
       "4                     True  \n",
       "\n",
       "[5 rows x 24 columns]"
      ]
     },
     "execution_count": 2,
     "metadata": {},
     "output_type": "execute_result"
    }
   ],
   "source": [
    "dfC=pd.read_csv('1.Dades_estacio.csv')\n",
    "dfC=dfC.drop(['Unnamed: 0'],axis=1)\n",
    "dfC.head()"
   ]
  },
  {
   "cell_type": "markdown",
   "id": "4b019d8a-39c4-447a-b1e7-f9fa061e6758",
   "metadata": {},
   "source": [
    "<h3>2- Data training - Regression <h3>"
   ]
  },
  {
   "cell_type": "markdown",
   "id": "1675f51a-cec5-4d79-bba6-f7cc6d752838",
   "metadata": {},
   "source": [
    "Veremos la relación entre las variables independientes y la precipitación como variable dependiente continua.\n",
    "También analizaremos las métricas resultado de cada algoritmo, y decidiremos cuál es el mejor modelo para este estudio.\n",
    "\n",
    "<br>- Regresion multilineal simple.\n",
    "<br>- Regresiones multilineales polinomicas de grado 2 y 3.\n",
    "<br>- Regresiones multivariable no lineales (cuadratica, cubica y exponencial).\n",
    "<br>- Perceptron Regressor.\n",
    "<br>- Random Forest Regressor.\n",
    "\n",
    "<br>2.1- CREACION DE FUNCIONES NECESARIAS PARA LAS REGRESIONES:"
   ]
  },
  {
   "cell_type": "code",
   "execution_count": 3,
   "id": "803162c2-a253-4f1c-80e4-5fd1bc2e6323",
   "metadata": {},
   "outputs": [],
   "source": [
    "#Importar librerias para Regresion\n",
    "from sklearn.svm import SVR\n",
    "from sklearn import linear_model\n",
    "from sklearn.model_selection import train_test_split\n",
    "from math import sqrt\n",
    "from sklearn.metrics import mean_squared_error, r2_score\n",
    "from sklearn.feature_selection import RFE"
   ]
  },
  {
   "cell_type": "code",
   "execution_count": 4,
   "id": "6d5f437f-4d3e-4ef3-a936-d888d82e4f06",
   "metadata": {},
   "outputs": [],
   "source": [
    "#Feature Importance\n",
    "def feature_importance(X,y):\n",
    "    from sklearn.tree import DecisionTreeRegressor\n",
    "    # Build a forest and compute the feature importances\n",
    "    forest = DecisionTreeRegressor()\n",
    "    forest.fit(X, y)\n",
    "    importances = forest.feature_importances_\n",
    "\n",
    "    indices = np.argsort(importances)[::-1]\n",
    "\n",
    "    # Print the feature ranking\n",
    "    print(\"Feature ranking:\")\n",
    "\n",
    "    for f in range(X.shape[1]):\n",
    "        print(\"%d. feature %d (%f)\" % (f + 1, indices[f], importances[indices[f]]))\n",
    "\n",
    "    # Plot the feature importances of the forest\n",
    "    plt.figure()\n",
    "    plt.title(\"Feature importances\")\n",
    "    plt.bar(range(X.shape[1]), importances[indices],color=\"r\", align=\"center\")\n",
    "    plt.xticks(range(X.shape[1]), indices)\n",
    "    plt.xlim([-1, X.shape[1]])\n",
    "    plt.show()"
   ]
  },
  {
   "cell_type": "code",
   "execution_count": 5,
   "id": "bab19099-cd9f-48eb-a6ad-6dc85b7c4e9b",
   "metadata": {},
   "outputs": [],
   "source": [
    "def multilineal_simple(X_train, X_test, y_train, y_test):\n",
    "    regresion_lineal = linear_model.LinearRegression()\n",
    "    regresion_lineal.fit(X_train, y_train)\n",
    "    yhat = regresion_lineal.predict(X_test)\n",
    "    Rsquared=regresion_lineal.score(X_test, y_test)\n",
    "    RMSE=sqrt(mean_squared_error(yhat,y_test))\n",
    "    print('R squared score: ', Rsquared)\n",
    "    print(\"RMSE: \", RMSE)  "
   ]
  },
  {
   "cell_type": "code",
   "execution_count": 6,
   "id": "9162c758-81cd-4b64-9f35-6c83974c12a4",
   "metadata": {},
   "outputs": [],
   "source": [
    "def multilineal_poly(X_train, X_test, y_train, y_test):\n",
    "    from sklearn.preprocessing import PolynomialFeatures\n",
    "    for i in range(2,4):\n",
    "        poly = PolynomialFeatures(degree=i)\n",
    "        X_train_poly = poly.fit_transform(X_train)\n",
    "        regresion_poly = linear_model.LinearRegression()\n",
    "        regresion_poly.fit(X_train_poly, y_train)\n",
    "        X_test_poly = poly.fit_transform(X_test)\n",
    "        yhat = regresion_poly.predict(X_test_poly)\n",
    "        print(\"GRADO\",i)\n",
    "        print(\"R2_Score\", r2_score(y_test,yhat))\n",
    "        print(\"mean_squared_error: \", mean_squared_error(yhat,y_test))\n",
    "        print(\"*******************************************************\")"
   ]
  },
  {
   "cell_type": "code",
   "execution_count": 7,
   "id": "32627c26-c5c4-4a07-bb2d-004d40927c81",
   "metadata": {},
   "outputs": [],
   "source": [
    "def exponencial(X_train):\n",
    "    y = np.exp(X_train)\n",
    "    return y\n",
    "\n",
    "def cuadratica(X_train):\n",
    "    y = (X_train**2)\n",
    "    return y\n",
    "\n",
    "def cubica(X_train):\n",
    "    y = 1*(X_train**3) + 1*(X_train**2) + 1*X_train + 3\n",
    "    return y\n",
    "\n",
    "def no_lineales(X_train,X_test,y_train,y_test):\n",
    "    funciones=[exponencial,cuadratica,cubica]\n",
    "    nombres=['exponencial','cuadratica','cubica']\n",
    "    for i,j in zip (funciones,nombres):\n",
    "        X_train_exponencial = i(X_train)\n",
    "        regresion_exponencial = linear_model.LinearRegression()\n",
    "        regresion_exponencial.fit(X_train_exponencial, y_train)\n",
    "        X_test_exponencial = i(X_test)\n",
    "        yhat = regresion_exponencial.predict(X_test_exponencial)\n",
    "        print(\"Regresion: \",j)\n",
    "        print(\"r2_score\",r2_score(y_test,yhat))\n",
    "        print(\"mean_squared_error\",mean_squared_error(yhat,y_test))\n",
    "        print(\"********************************************************\")"
   ]
  },
  {
   "cell_type": "code",
   "execution_count": 8,
   "id": "e10b6fdc-f19b-4509-842d-fcb9fa7386a8",
   "metadata": {},
   "outputs": [],
   "source": [
    "def kfold_split_Random(X,y):\n",
    "    from sklearn.model_selection import KFold\n",
    "    kf = KFold(n_splits=5)\n",
    "    R2=[]\n",
    "    MSE=[]\n",
    "    for train_index, test_index in kf.split(X):\n",
    "    \n",
    "        Xtrain, Xtest = X[train_index], X[test_index]\n",
    "        ytrain, ytest = y[train_index], y[test_index]\n",
    "        r2,mse=Random_forest_Regressor(Xtrain,Xtest,ytrain,ytest)\n",
    "        R2.append(r2)\n",
    "        MSE.append(mse)\n",
    "    R2=np.array(R2)\n",
    "    MSE=np.array(MSE)\n",
    "    print('R squared score: ', R2.mean())\n",
    "    print(\"RMSE: \", MSE.mean())  "
   ]
  },
  {
   "cell_type": "code",
   "execution_count": 9,
   "id": "511001b9-e4ee-4d52-b8a4-430d3cb34ab5",
   "metadata": {},
   "outputs": [],
   "source": [
    "#Calculo X_train, X_test, y_train, y_test con k-Fold:\n",
    "\n",
    "def kfold_split2(X,y):\n",
    "    from sklearn.model_selection import KFold\n",
    "    kf = KFold(n_splits=5)\n",
    "    y_test=[]\n",
    "    X_test=[]\n",
    "    X_train=[]\n",
    "    y_train=[]\n",
    "    for train_index, test_index in kf.split(X):\n",
    "    \n",
    "        Xtrain, Xtest = X[train_index], X[test_index]\n",
    "        ytrain, ytest = y[train_index], y[test_index]\n",
    "        y_test.extend(ytest)\n",
    "        X_test.extend(Xtest)\n",
    "        X_train.extend(Xtrain)\n",
    "        y_train.extend(ytrain)\n",
    "    X_train=np.array(X_train)\n",
    "    y_train=np.array(y_train)\n",
    "    X_test=np.array(X_test)\n",
    "    y_test=np.array(y_test)\n",
    "    return X_train, y_train,X_test,y_test\n",
    "\n",
    "#X_train=kfold_split(X,y)[0]\n",
    "#y_train=kfold_split(X,y)[1]\n",
    "#X_test=kfold_split(X,y)[2]\n",
    "#y_test=kfold_split(X,y)[3]"
   ]
  },
  {
   "cell_type": "code",
   "execution_count": 10,
   "id": "eb07d7e9-d855-412c-b357-77b97f679815",
   "metadata": {},
   "outputs": [],
   "source": [
    "def Random_forest_Regressor(X_train, X_test,y_train,y_test):\n",
    "    from sklearn.ensemble import RandomForestRegressor\n",
    "    from sklearn.datasets import make_regression\n",
    "    regr = RandomForestRegressor(n_estimators = 100, random_state = 0)\n",
    "    regr.fit(X_train, y_train)\n",
    "    yhat = regr.predict(X_test)\n",
    "    return r2_score(y_test,yhat),mean_squared_error(yhat,y_test)"
   ]
  },
  {
   "cell_type": "code",
   "execution_count": 11,
   "id": "0e7bf4b1-66f0-4cac-a596-eeb6a9092174",
   "metadata": {},
   "outputs": [],
   "source": [
    "def xgboost(X_train, X_test,y_train,y_test):\n",
    "    import xgboost as xgb\n",
    "    clf_xgb = xgb.XGBClassifier(objective='binary:logistic', n_estimators=10,\n",
    "                            seed=123)\n",
    "    clf_xgb.fit(X_train, y_train)\n",
    "    yhat = clf_xgb.predict(X_test)\n",
    "    print('R squared score: ', r2_score(y_test,yhat))\n",
    "    print(\"RMSE: \", sqrt(mean_squared_error(yhat,y_test)) )"
   ]
  },
  {
   "cell_type": "markdown",
   "id": "92b50815-3a41-46c6-82e3-0a3553fb3d18",
   "metadata": {},
   "source": [
    "2.2- SPLIT DATA"
   ]
  },
  {
   "cell_type": "code",
   "execution_count": 12,
   "id": "0de51e5d-7280-4022-8892-ea7c95b64caf",
   "metadata": {},
   "outputs": [],
   "source": [
    "X=np.asanyarray(dfC[['Temp mitja','Temp max','Temp min','Dif.Temp','Pressió atm mitja','Pressió atm. max','Pressió atm. min','Dif.Pressió','Humitat rel mitja','Humitat rel.max','Humitat rel. min','Dif.Hum','Irradiància solar mitja','Gruix neu mitja','Velocitat vent (10m) mitja','Direcció vent mitja','Ratxa max vent (10m)','Direcció vent max mitja']])\n",
    "#Normalización mean=0 y std=1\n",
    "X=(X - np.mean(X,0))/np.std(X,0)\n",
    "y=np.asanyarray(dfC['Precipitació tot'])"
   ]
  },
  {
   "cell_type": "code",
   "execution_count": 13,
   "id": "5d0add68-d5b0-4f45-9323-424052c381a8",
   "metadata": {},
   "outputs": [],
   "source": [
    "# Separamos los datos en muestreo de entrenamiento y muestreo de testeo:\n",
    "from sklearn.model_selection import train_test_split\n",
    "\n",
    "X_train,X_test,y_train,y_test=train_test_split(X,y,test_size=0.2)\n"
   ]
  },
  {
   "cell_type": "markdown",
   "id": "4e263eda-eb69-41f6-b17b-dfe7804555e7",
   "metadata": {},
   "source": [
    "2.3- EJECUCIÓN DE FUNCIONES DE REGRESIÓN"
   ]
  },
  {
   "cell_type": "code",
   "execution_count": 14,
   "id": "10f992e9-7247-4d40-9a14-079991f0886a",
   "metadata": {},
   "outputs": [
    {
     "name": "stdout",
     "output_type": "stream",
     "text": [
      "R squared score:  0.2161685853734312\n",
      "RMSE:  5.075414094044867\n"
     ]
    }
   ],
   "source": [
    "#MULTILINEAL SIMPLE/HOLD OUT\n",
    "multilineal_simple(X_train, X_test, y_train, y_test)"
   ]
  },
  {
   "cell_type": "code",
   "execution_count": 15,
   "id": "0ca50dc6-2f4c-4da0-a646-4f02dfe19585",
   "metadata": {},
   "outputs": [
    {
     "name": "stdout",
     "output_type": "stream",
     "text": [
      "GRADO 2\n",
      "R2_Score 0.39507572397918644\n",
      "mean_squared_error:  19.880225708324257\n",
      "*******************************************************\n",
      "GRADO 3\n",
      "R2_Score -15.83563190871065\n",
      "mean_squared_error:  553.2860484440498\n",
      "*******************************************************\n"
     ]
    }
   ],
   "source": [
    "#MULTILINEAL POLY (GRADO 2 Y 3)\n",
    "multilineal_poly(X_train, X_test, y_train, y_test)"
   ]
  },
  {
   "cell_type": "code",
   "execution_count": 16,
   "id": "a1e04178-75da-48b1-b45a-c68002a21b9d",
   "metadata": {},
   "outputs": [
    {
     "name": "stdout",
     "output_type": "stream",
     "text": [
      "Regresion:  exponencial\n",
      "r2_score 0.21408773769021472\n",
      "mean_squared_error 25.82821318468742\n",
      "********************************************************\n",
      "Regresion:  cuadratica\n",
      "r2_score 0.1518634748532367\n",
      "mean_squared_error 27.87315077236435\n",
      "********************************************************\n",
      "Regresion:  cubica\n",
      "r2_score 0.20903634741184896\n",
      "mean_squared_error 25.99422202720789\n",
      "********************************************************\n"
     ]
    }
   ],
   "source": [
    "#NO LINEALES\n",
    "no_lineales(X_train, X_test, y_train, y_test)"
   ]
  },
  {
   "cell_type": "code",
   "execution_count": 17,
   "id": "0a44a14b-ff8d-4bfa-8d60-57657329b226",
   "metadata": {},
   "outputs": [
    {
     "name": "stdout",
     "output_type": "stream",
     "text": [
      "R squared score:  0.41537566596482145\n",
      "RMSE:  15.61869403590814\n"
     ]
    }
   ],
   "source": [
    "#RANDOM REGRESSOR/KFOLD\n",
    "kfold_split_Random(X,y)"
   ]
  },
  {
   "cell_type": "code",
   "execution_count": 18,
   "id": "3271c8ed-85fa-4940-b0c4-9d0be40a4370",
   "metadata": {},
   "outputs": [
    {
     "name": "stderr",
     "output_type": "stream",
     "text": [
      "C:\\Users\\anna\\AppData\\Local\\Packages\\PythonSoftwareFoundation.Python.3.10_qbz5n2kfra8p0\\LocalCache\\local-packages\\Python310\\site-packages\\xgboost\\compat.py:36: FutureWarning: pandas.Int64Index is deprecated and will be removed from pandas in a future version. Use pandas.Index with the appropriate dtype instead.\n",
      "  from pandas import MultiIndex, Int64Index\n",
      "C:\\Users\\anna\\AppData\\Local\\Packages\\PythonSoftwareFoundation.Python.3.10_qbz5n2kfra8p0\\LocalCache\\local-packages\\Python310\\site-packages\\xgboost\\sklearn.py:1224: UserWarning: The use of label encoder in XGBClassifier is deprecated and will be removed in a future release. To remove this warning, do the following: 1) Pass option use_label_encoder=False when constructing XGBClassifier object; and 2) Encode your labels (y) as integers starting with 0, i.e. 0, 1, 2, ..., [num_class - 1].\n",
      "  warnings.warn(label_encoder_deprecation_msg, UserWarning)\n"
     ]
    },
    {
     "name": "stdout",
     "output_type": "stream",
     "text": [
      "[10:02:38] WARNING: C:/Users/Administrator/workspace/xgboost-win64_release_1.5.1/src/learner.cc:1115: Starting in XGBoost 1.3.0, the default evaluation metric used with the objective 'multi:softprob' was changed from 'merror' to 'mlogloss'. Explicitly set eval_metric if you'd like to restore the old behavior.\n",
      "R squared score:  -0.020740794866848766\n",
      "RMSE:  5.79185772152496\n"
     ]
    }
   ],
   "source": [
    "#XGBOOST\n",
    "xgboost(X_train, X_test, y_train,y_test)"
   ]
  },
  {
   "cell_type": "markdown",
   "id": "2cb1856b-6e49-4742-a837-efbdce0babae",
   "metadata": {},
   "source": [
    "<h3>3- Data training - Classification <h3>"
   ]
  },
  {
   "cell_type": "markdown",
   "id": "6055eff4-9e2c-4de0-a423-74c1e75d0390",
   "metadata": {},
   "source": [
    "Veremos la relación entre las variables independientes y la precipitación como variable dependiente categórica (llueve o no llueve).\n",
    "También analizaremos las métricas resultado de cada algoritmo, y decidiremos cuál es el mejor modelo para este estudio.\n",
    "\n",
    "Los algoritmos aplicados son los sigiuentes:\n",
    "\n",
    "\n",
    "<br>- K-Nearest Neighbors (KNN)\n",
    "<br>- Decision trees\n",
    "<br>- Logistic Regression\n",
    "<br>- SVM"
   ]
  },
  {
   "cell_type": "markdown",
   "id": "6a041e47-c427-47e1-adb8-30a45c515f40",
   "metadata": {},
   "source": [
    "3.1- CREACIÓN DE FUNCIONES NECESARIAS PARA LA CLASIFICACIÓN"
   ]
  },
  {
   "cell_type": "code",
   "execution_count": 110,
   "id": "ee638436-3534-4ab5-b07c-a4461138cee3",
   "metadata": {},
   "outputs": [],
   "source": [
    "#KNN\n",
    "def KNN(X_train,X_test,y_train,y_test):\n",
    "    from sklearn.neighbors import KNeighborsClassifier\n",
    "    from sklearn import metrics\n",
    "    from sklearn.metrics import classification_report\n",
    "    k=4\n",
    "    neigh=KNeighborsClassifier(n_neighbors=k).fit(X_train,y_train)\n",
    "    yhat=neigh.predict(X_test)\n",
    "    print('Train set Accuracy:',metrics.accuracy_score(y_train,neigh.predict(X_train)))\n",
    "    print('Test set Accuracy:',metrics.accuracy_score(y_test,yhat))\n",
    "    print('*************************************')\n",
    "    \n",
    "    #calculem l'accuracy per k de 0 a 10:\n",
    "    ks=15\n",
    "    mean_acc=np.zeros((ks-1))\n",
    "    std_acc=np.zeros((ks-1))\n",
    "    for n in range(1,ks):\n",
    "        neigh=KNeighborsClassifier(n_neighbors=n).fit(X_train,y_train)\n",
    "        yhat=neigh.predict(X_test)\n",
    "        mean_acc[n-1]=metrics.accuracy_score(y_test,yhat)\n",
    "        std_acc[n-1]=np.std(yhat==y_test)/np.sqrt(yhat.shape[0])\n",
    "    print('Test set Accuracy for k from 0 to 10:',mean_acc)\n",
    "    print('Test set std Accuracy for k from 0 to 10:',std_acc)\n",
    "    print(classification_report(y_test,yhat))\n",
    "    \n",
    "    cnf_matrix=metrics.confusion_matrix(y_test,yhat,labels=[1,0])\n",
    "    np.set_printoptions(precision=2)\n",
    "    plt.figure()\n",
    "    plot_confusion_matrix(cnf_matrix,classes=['Positive','Negative'])"
   ]
  },
  {
   "cell_type": "code",
   "execution_count": 101,
   "id": "2e28af1c-0a1e-41e3-9c6d-b9d17fd34036",
   "metadata": {},
   "outputs": [],
   "source": [
    "#Decision Tree\n",
    "def DecisionTree(dfC):\n",
    "    from sklearn import preprocessing\n",
    "    from sklearn.tree import DecisionTreeClassifier\n",
    "    from sklearn import metrics\n",
    "    from sklearn.metrics import classification_report\n",
    "    le=preprocessing.LabelEncoder()\n",
    "    le.fit(dfC['Precipitació demà(bool)'])\n",
    "    dfC_1=dfC\n",
    "    dfC_1['encoded']=le.transform(dfC['Precipitació demà(bool)'])\n",
    "\n",
    "    X_1=np.asanyarray(dfC_1[['Temp mitja','Temp max','Temp min','Dif.Temp','Pressió atm mitja','Pressió atm. max','Pressió atm. min','Dif.Pressió','Humitat rel mitja','Humitat rel.max','Humitat rel. min','Dif.Hum','Irradiància solar mitja','Gruix neu mitja','Velocitat vent (10m) mitja','Direcció vent mitja','Ratxa max vent (10m)','Direcció vent max mitja', 'Precipitació tot']])\n",
    "    X_1=StandardScaler().fit(X).transform(X)\n",
    "    y_1=np.asanyarray(dfC_1['encoded'])\n",
    "\n",
    "    X_train,X_test,y_train,y_test=train_test_split(X_1,y_1,test_size=0.2)\n",
    "    \n",
    "    Tree=DecisionTreeClassifier(criterion='entropy',max_depth=4)\n",
    "    Tree.fit(X_train,y_train)\n",
    "    yhat=Tree.predict(X_test)\n",
    "    print(yhat[0:5])\n",
    "    print(y_test[0:5])\n",
    "    print('Decision Tree Accuracy:',metrics.accuracy_score(y_test,yhat))\n",
    "    print(classification_report(y_test,yhat))\n",
    "    \n",
    "    cnf_matrix=metrics.confusion_matrix(y_test,yhat,labels=[1,0])\n",
    "    np.set_printoptions(precision=2)\n",
    "    plt.figure()\n",
    "    plot_confusion_matrix(cnf_matrix,classes=['Positive','Negative'])\n",
    "    "
   ]
  },
  {
   "cell_type": "code",
   "execution_count": 102,
   "id": "eff5e6ce-51fc-4d28-95aa-ae0e329330a2",
   "metadata": {},
   "outputs": [],
   "source": [
    "def LogisticRegression(X_train,X_test,y_train,y_test):\n",
    "    from sklearn.linear_model import LogisticRegression\n",
    "    from sklearn import metrics\n",
    "    from sklearn.metrics import classification_report\n",
    "    LR=LogisticRegression(C=0.01,solver='newton-cg').fit(X_train,y_train)\n",
    "    yhat=LR.predict(X_test)\n",
    "    print('Train set Accuracy:',metrics.accuracy_score(y_train,LR.predict(X_train)))\n",
    "    print('Test set Accuracy:',metrics.accuracy_score(y_test,yhat))\n",
    "    print('Jaccard Score:',metrics.jaccard_score(y_test,yhat,pos_label=0))\n",
    "    print(classification_report(y_test,yhat))\n",
    "    \n",
    "    cnf_matrix=metrics.confusion_matrix(y_test,yhat,labels=[1,0])\n",
    "    np.set_printoptions(precision=2)\n",
    "    plt.figure()\n",
    "    plot_confusion_matrix(cnf_matrix,classes=['Positive','Negative'])"
   ]
  },
  {
   "cell_type": "code",
   "execution_count": 114,
   "id": "bfcf88b2-0b55-4e63-8eb4-710892367f89",
   "metadata": {},
   "outputs": [],
   "source": [
    "def SVM(X_train,X_test,y_train,y_test):\n",
    "    from sklearn import svm\n",
    "    from sklearn import metrics\n",
    "    from sklearn.metrics import classification_report\n",
    "    svm=svm.SVC().fit(X_train,y_train)\n",
    "    yhat=svm.predict(X_test)\n",
    "    print('Train set Accuracy:',metrics.accuracy_score(y_train,svm.predict(X_train)))\n",
    "    print('Test set Accuracy:',metrics.accuracy_score(y_test,yhat))\n",
    "    print(classification_report(y_test,yhat))\n",
    "    \n",
    "    cnf_matrix=metrics.confusion_matrix(y_test,yhat,labels=[1,0])\n",
    "    np.set_printoptions(precision=2)\n",
    "    plt.figure()\n",
    "    plot_confusion_matrix(cnf_matrix,classes=['Positive','Negative'])"
   ]
  },
  {
   "cell_type": "code",
   "execution_count": 103,
   "id": "0bd3a459-5865-49a2-8de9-89bc97c34522",
   "metadata": {},
   "outputs": [],
   "source": [
    "def plot_confusion_matrix(cm,classes,normalize=False,title='Confusion matrix',cmap=plt.cm.Blues):\n",
    "    from sklearn.metrics import confusion_matrix\n",
    "    import itertools\n",
    "    if normalize:\n",
    "        cm=cm.astype('float')/cm.sum(axis=1)[:,np.newaxis]\n",
    "        print('Normalized confusion matrix')\n",
    "    else:\n",
    "        print('Confusion matrix, without normalization')\n",
    "    print(cm)\n",
    "    plt.imshow(cm,interpolation='nearest',cmap=cmap)\n",
    "    plt.title(title)\n",
    "    plt.colorbar()\n",
    "    tick_marks=np.arange(len(classes))\n",
    "    plt.xticks(tick_marks,classes,rotation=45)\n",
    "    plt.yticks(tick_marks,classes)\n",
    "    \n",
    "    fmt='.2f' if normalize else 'd'\n",
    "    thresh=cm.max()/2.\n",
    "    for i,j in itertools.product(range(cm.shape[0]),range(cm.shape[1])):\n",
    "        plt.text(j,i,format(cm[i,j],fmt),horizontalalignment='center',color='white' if cm[i,j]>thresh else 'black')\n",
    "        \n",
    "    plt.tight_layout()\n",
    "    plt.ylabel('True label')\n",
    "    plt.xlabel('Predicted label')\n"
   ]
  },
  {
   "cell_type": "markdown",
   "id": "8699d9ca-c20f-4a6a-a471-97f2c1bc976d",
   "metadata": {},
   "source": [
    "3.2- SPLIT DATA"
   ]
  },
  {
   "cell_type": "code",
   "execution_count": 106,
   "id": "3c03f96c-a1b4-49ec-86ee-59b68333be0f",
   "metadata": {},
   "outputs": [],
   "source": [
    "X=np.asanyarray(dfC[['Temp mitja','Temp max','Temp min','Dif.Temp','Pressió atm mitja','Pressió atm. max','Pressió atm. min','Dif.Pressió','Humitat rel mitja','Humitat rel.max','Humitat rel. min','Dif.Hum','Irradiància solar mitja','Gruix neu mitja','Velocitat vent (10m) mitja','Direcció vent mitja','Ratxa max vent (10m)','Direcció vent max mitja','Precipitació tot','Precipitació (bool)']])\n",
    "X=StandardScaler().fit(X).transform(X)\n",
    "y=np.asanyarray(dfC['Precipitació demà(bool)'])"
   ]
  },
  {
   "cell_type": "code",
   "execution_count": 107,
   "id": "d47a5dfe-cee1-4434-88bd-6b7b430b1b2e",
   "metadata": {},
   "outputs": [],
   "source": [
    "from sklearn.model_selection import train_test_split\n",
    "\n",
    "X_train,X_test,y_train,y_test=train_test_split(X,y,test_size=0.2)"
   ]
  },
  {
   "cell_type": "markdown",
   "id": "569ba56c-ec95-4444-b9f7-f4d43113f4f8",
   "metadata": {},
   "source": [
    "3.3- EJECUCIONES DE FUNCIONES DE CLASIFICACIÓN"
   ]
  },
  {
   "cell_type": "code",
   "execution_count": 111,
   "id": "6eb0d645-4fac-422e-b294-9a800d44c88e",
   "metadata": {},
   "outputs": [
    {
     "name": "stdout",
     "output_type": "stream",
     "text": [
      "Train set Accuracy: 0.7943632567849687\n",
      "Test set Accuracy: 0.6931106471816284\n",
      "*************************************\n",
      "Test set Accuracy for k from 0 to 10: [0.64 0.69 0.68 0.69 0.7  0.7  0.71 0.71 0.72 0.72 0.72 0.72 0.72 0.72]\n",
      "Test set std Accuracy for k from 0 to 10: [0.02 0.01 0.02 0.01 0.01 0.01 0.01 0.01 0.01 0.01 0.01 0.01 0.01 0.01]\n",
      "              precision    recall  f1-score   support\n",
      "\n",
      "       False       0.74      0.89      0.81       651\n",
      "        True       0.60      0.34      0.43       307\n",
      "\n",
      "    accuracy                           0.72       958\n",
      "   macro avg       0.67      0.62      0.62       958\n",
      "weighted avg       0.70      0.72      0.69       958\n",
      "\n",
      "Confusion matrix, without normalization\n",
      "[[105 202]\n",
      " [ 71 580]]\n"
     ]
    },
    {
     "data": {
      "image/png": "[encoded data removed]",
      "text/plain": [
       "<Figure size 432x288 with 2 Axes>"
      ]
     },
     "metadata": {
      "needs_background": "light"
     },
     "output_type": "display_data"
    }
   ],
   "source": [
    "KNN(X_train,X_test,y_train,y_test)"
   ]
  },
  {
   "cell_type": "code",
   "execution_count": 109,
   "id": "c8de691b-895c-4aac-9f56-a5807f59d66c",
   "metadata": {},
   "outputs": [
    {
     "name": "stdout",
     "output_type": "stream",
     "text": [
      "[1 0 1 0 0]\n",
      "[1 0 0 1 0]\n",
      "Decision Tree Accuracy: 0.7359081419624217\n",
      "              precision    recall  f1-score   support\n",
      "\n",
      "           0       0.77      0.88      0.82       664\n",
      "           1       0.60      0.40      0.48       294\n",
      "\n",
      "    accuracy                           0.74       958\n",
      "   macro avg       0.69      0.64      0.65       958\n",
      "weighted avg       0.72      0.74      0.72       958\n",
      "\n",
      "Confusion matrix, without normalization\n",
      "[[119 175]\n",
      " [ 78 586]]\n"
     ]
    },
    {
     "data": {
      "image/png": "[encoded data removed]",
      "text/plain": [
       "<Figure size 432x288 with 2 Axes>"
      ]
     },
     "metadata": {
      "needs_background": "light"
     },
     "output_type": "display_data"
    }
   ],
   "source": [
    "DecisionTree(dfC)"
   ]
  },
  {
   "cell_type": "code",
   "execution_count": 104,
   "id": "9225ffa8-4d77-4391-b5b9-4260d18f7f14",
   "metadata": {},
   "outputs": [
    {
     "name": "stdout",
     "output_type": "stream",
     "text": [
      "Train set Accuracy: 0.7215553235908142\n",
      "Test set Accuracy: 0.7515657620041754\n",
      "Jaccard Score: 0.7163289630512515\n",
      "              precision    recall  f1-score   support\n",
      "\n",
      "       False       0.78      0.89      0.83       672\n",
      "        True       0.63      0.42      0.50       286\n",
      "\n",
      "    accuracy                           0.75       958\n",
      "   macro avg       0.70      0.66      0.67       958\n",
      "weighted avg       0.74      0.75      0.73       958\n",
      "\n",
      "Confusion matrix, without normalization\n",
      "[[119 167]\n",
      " [ 71 601]]\n"
     ]
    },
    {
     "data": {
      "image/png": "[encoded data removed]",
      "text/plain": [
       "<Figure size 432x288 with 2 Axes>"
      ]
     },
     "metadata": {
      "needs_background": "light"
     },
     "output_type": "display_data"
    }
   ],
   "source": [
    "LogisticRegression(X_train,X_test,y_train,y_test)"
   ]
  },
  {
   "cell_type": "code",
   "execution_count": 115,
   "id": "f671dfc0-aabc-433c-b55b-66f3064e27a2",
   "metadata": {},
   "outputs": [
    {
     "name": "stdout",
     "output_type": "stream",
     "text": [
      "Train set Accuracy: 0.7606993736951984\n",
      "Test set Accuracy: 0.7317327766179541\n",
      "              precision    recall  f1-score   support\n",
      "\n",
      "       False       0.77      0.87      0.81       651\n",
      "        True       0.61      0.45      0.52       307\n",
      "\n",
      "    accuracy                           0.73       958\n",
      "   macro avg       0.69      0.66      0.67       958\n",
      "weighted avg       0.72      0.73      0.72       958\n",
      "\n",
      "Confusion matrix, without normalization\n",
      "[[137 170]\n",
      " [ 87 564]]\n"
     ]
    },
    {
     "data": {
      "image/png": "[encoded data removed]",
      "text/plain": [
       "<Figure size 432x288 with 2 Axes>"
      ]
     },
     "metadata": {
      "needs_background": "light"
     },
     "output_type": "display_data"
    }
   ],
   "source": [
    "SVM(X_train,X_test,y_train,y_test)"
   ]
  },
  {
   "cell_type": "markdown",
   "id": "43f118dd-df39-41a6-a0e4-c357550b33f0",
   "metadata": {},
   "source": [
    "Comparando las métricas, podemos concluir que el método óptimo de clasificación es la Logistic Regresion."
   ]
  }
 ],
 "metadata": {
  "kernelspec": {
   "display_name": "Python 3 (ipykernel)",
   "language": "python",
   "name": "python3"
  },
  "language_info": {
   "codemirror_mode": {
    "name": "ipython",
    "version": 3
   },
   "file_extension": ".py",
   "mimetype": "text/x-python",
   "name": "python",
   "nbconvert_exporter": "python",
   "pygments_lexer": "ipython3",
   "version": "3.10.2"
  }
 },
 "nbformat": 4,
 "nbformat_minor": 5
}
